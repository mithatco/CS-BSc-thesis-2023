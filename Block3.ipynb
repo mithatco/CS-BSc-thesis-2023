{
 "cells": [
  {
   "cell_type": "code",
   "execution_count": 8,
   "metadata": {},
   "outputs": [
    {
     "name": "stdout",
     "output_type": "stream",
     "text": [
      "Requirement already satisfied: matplotlib in /Users/mithat/opt/anaconda3/lib/python3.9/site-packages (3.5.2)\n",
      "Requirement already satisfied: numpy>=1.17 in /Users/mithat/opt/anaconda3/lib/python3.9/site-packages (from matplotlib) (1.21.5)\n",
      "Requirement already satisfied: packaging>=20.0 in /Users/mithat/opt/anaconda3/lib/python3.9/site-packages (from matplotlib) (21.3)\n",
      "Requirement already satisfied: cycler>=0.10 in /Users/mithat/opt/anaconda3/lib/python3.9/site-packages (from matplotlib) (0.11.0)\n",
      "Requirement already satisfied: fonttools>=4.22.0 in /Users/mithat/opt/anaconda3/lib/python3.9/site-packages (from matplotlib) (4.25.0)\n",
      "Requirement already satisfied: pillow>=6.2.0 in /Users/mithat/opt/anaconda3/lib/python3.9/site-packages (from matplotlib) (9.2.0)\n",
      "Requirement already satisfied: pyparsing>=2.2.1 in /Users/mithat/opt/anaconda3/lib/python3.9/site-packages (from matplotlib) (3.0.9)\n",
      "Requirement already satisfied: kiwisolver>=1.0.1 in /Users/mithat/opt/anaconda3/lib/python3.9/site-packages (from matplotlib) (1.4.2)\n",
      "Requirement already satisfied: python-dateutil>=2.7 in /Users/mithat/opt/anaconda3/lib/python3.9/site-packages (from matplotlib) (2.8.2)\n",
      "Requirement already satisfied: six>=1.5 in /Users/mithat/opt/anaconda3/lib/python3.9/site-packages (from python-dateutil>=2.7->matplotlib) (1.16.0)\n",
      "Note: you may need to restart the kernel to use updated packages.\n"
     ]
    }
   ],
   "source": [
    "# %pip install pandas\n",
    "# %pip install matplotlib"
   ]
  },
  {
   "cell_type": "code",
   "execution_count": 1,
   "metadata": {},
   "outputs": [],
   "source": [
    "import pandas as pd\n",
    "from sklearn.utils import shuffle\n",
    "import random\n",
    "import math\n",
    "import matplotlib.pyplot as plt\n",
    "import warnings\n",
    "warnings.simplefilter(action='ignore', category=FutureWarning)\n"
   ]
  },
  {
   "cell_type": "code",
   "execution_count": 2,
   "metadata": {},
   "outputs": [
    {
     "data": {
      "text/html": [
       "<div>\n",
       "<style scoped>\n",
       "    .dataframe tbody tr th:only-of-type {\n",
       "        vertical-align: middle;\n",
       "    }\n",
       "\n",
       "    .dataframe tbody tr th {\n",
       "        vertical-align: top;\n",
       "    }\n",
       "\n",
       "    .dataframe thead th {\n",
       "        text-align: right;\n",
       "    }\n",
       "</style>\n",
       "<table border=\"1\" class=\"dataframe\">\n",
       "  <thead>\n",
       "    <tr style=\"text-align: right;\">\n",
       "      <th></th>\n",
       "      <th>Keywords</th>\n",
       "      <th>Description</th>\n",
       "      <th>Headline</th>\n",
       "      <th>Location</th>\n",
       "      <th>Sitelink</th>\n",
       "      <th>Callout</th>\n",
       "      <th>Url</th>\n",
       "      <th>clicks</th>\n",
       "      <th>impressions</th>\n",
       "      <th>cost</th>\n",
       "      <th>ctr</th>\n",
       "      <th>score</th>\n",
       "    </tr>\n",
       "  </thead>\n",
       "  <tbody>\n",
       "    <tr>\n",
       "      <th>0</th>\n",
       "      <td>project software</td>\n",
       "      <td>Project + Artwork Management Tool | 100% cloud...</td>\n",
       "      <td>Efficient Teamwork Starts Here</td>\n",
       "      <td>USA, Canada</td>\n",
       "      <td>See Our Features\\n\\nD: Integrations - Automati...</td>\n",
       "      <td>Start in Minutes</td>\n",
       "      <td>https://twonas.com/services/ams/?source=genesis</td>\n",
       "      <td>11</td>\n",
       "      <td>1959</td>\n",
       "      <td>11.995903</td>\n",
       "      <td>0.561511</td>\n",
       "      <td>554.195584</td>\n",
       "    </tr>\n",
       "    <tr>\n",
       "      <th>1</th>\n",
       "      <td>pm software</td>\n",
       "      <td>Free plans available. Integrate with your othe...</td>\n",
       "      <td>#1 Artwork Management Tool</td>\n",
       "      <td>Australia, New Zealand</td>\n",
       "      <td>Free Plans Available\\n\\nD: Three Plans, All Co...</td>\n",
       "      <td>No Download Necessary</td>\n",
       "      <td>https://twonas.com/services/ams/why/?source=ge...</td>\n",
       "      <td>20</td>\n",
       "      <td>934</td>\n",
       "      <td>54.927843</td>\n",
       "      <td>2.141328</td>\n",
       "      <td>281.226558</td>\n",
       "    </tr>\n",
       "    <tr>\n",
       "      <th>2</th>\n",
       "      <td>packaging design software</td>\n",
       "      <td>Plan, Track, and Collaborate Using the Softwar...</td>\n",
       "      <td>Change The Way You Manage Art</td>\n",
       "      <td>Norway, Sweden, Finland, Denmark, Iceland</td>\n",
       "      <td>Free Project Manager\\n\\nD: From Basic Projects...</td>\n",
       "      <td>For Teams of 3 and Up</td>\n",
       "      <td>https://twonas.com/services/ams/pricing/?sourc...</td>\n",
       "      <td>2</td>\n",
       "      <td>1137</td>\n",
       "      <td>27.757507</td>\n",
       "      <td>0.175901</td>\n",
       "      <td>173.915628</td>\n",
       "    </tr>\n",
       "    <tr>\n",
       "      <th>3</th>\n",
       "      <td>workflow management software</td>\n",
       "      <td>Set for Success with Easy Integrations. Perfec...</td>\n",
       "      <td>Shape Your Workflow in Minutes</td>\n",
       "      <td>Spain, France, Italy, Portugal</td>\n",
       "      <td>Free Workflow Manager\\n\\nD: Plans Built for Te...</td>\n",
       "      <td>Easy to Use</td>\n",
       "      <td>https://twonas.com/services/ams/contact/?sourc...</td>\n",
       "      <td>26</td>\n",
       "      <td>1594</td>\n",
       "      <td>12.594008</td>\n",
       "      <td>1.631117</td>\n",
       "      <td>582.434756</td>\n",
       "    </tr>\n",
       "    <tr>\n",
       "      <th>4</th>\n",
       "      <td>project plan tool</td>\n",
       "      <td>The Newest Tech in Artwork Management. Simple ...</td>\n",
       "      <td>Artwork Management Made Easy</td>\n",
       "      <td>United Kingdom, Ireland</td>\n",
       "      <td>See Pricing\\n\\nD:See All of Our Plans and See ...</td>\n",
       "      <td>Free Plans Available</td>\n",
       "      <td>https://twonas.com/services/ams/features/?sour...</td>\n",
       "      <td>24</td>\n",
       "      <td>1400</td>\n",
       "      <td>1.584535</td>\n",
       "      <td>1.714286</td>\n",
       "      <td>473.572834</td>\n",
       "    </tr>\n",
       "  </tbody>\n",
       "</table>\n",
       "</div>"
      ],
      "text/plain": [
       "                       Keywords  \\\n",
       "0              project software   \n",
       "1                   pm software   \n",
       "2     packaging design software   \n",
       "3  workflow management software   \n",
       "4             project plan tool   \n",
       "\n",
       "                                         Description  \\\n",
       "0  Project + Artwork Management Tool | 100% cloud...   \n",
       "1  Free plans available. Integrate with your othe...   \n",
       "2  Plan, Track, and Collaborate Using the Softwar...   \n",
       "3  Set for Success with Easy Integrations. Perfec...   \n",
       "4  The Newest Tech in Artwork Management. Simple ...   \n",
       "\n",
       "                         Headline                                   Location  \\\n",
       "0  Efficient Teamwork Starts Here                                USA, Canada   \n",
       "1      #1 Artwork Management Tool                     Australia, New Zealand   \n",
       "2   Change The Way You Manage Art  Norway, Sweden, Finland, Denmark, Iceland   \n",
       "3  Shape Your Workflow in Minutes             Spain, France, Italy, Portugal   \n",
       "4    Artwork Management Made Easy                    United Kingdom, Ireland   \n",
       "\n",
       "                                            Sitelink                Callout  \\\n",
       "0  See Our Features\\n\\nD: Integrations - Automati...       Start in Minutes   \n",
       "1  Free Plans Available\\n\\nD: Three Plans, All Co...  No Download Necessary   \n",
       "2  Free Project Manager\\n\\nD: From Basic Projects...  For Teams of 3 and Up   \n",
       "3  Free Workflow Manager\\n\\nD: Plans Built for Te...            Easy to Use   \n",
       "4  See Pricing\\n\\nD:See All of Our Plans and See ...   Free Plans Available   \n",
       "\n",
       "                                                 Url  clicks  impressions  \\\n",
       "0    https://twonas.com/services/ams/?source=genesis      11         1959   \n",
       "1  https://twonas.com/services/ams/why/?source=ge...      20          934   \n",
       "2  https://twonas.com/services/ams/pricing/?sourc...       2         1137   \n",
       "3  https://twonas.com/services/ams/contact/?sourc...      26         1594   \n",
       "4  https://twonas.com/services/ams/features/?sour...      24         1400   \n",
       "\n",
       "        cost       ctr       score  \n",
       "0  11.995903  0.561511  554.195584  \n",
       "1  54.927843  2.141328  281.226558  \n",
       "2  27.757507  0.175901  173.915628  \n",
       "3  12.594008  1.631117  582.434756  \n",
       "4   1.584535  1.714286  473.572834  "
      ]
     },
     "metadata": {},
     "output_type": "display_data"
    }
   ],
   "source": [
    "# Generate Random Campaings\n",
    "# df = pd.read_excel(r'/Users/mithat/Library/CloudStorage/OneDrive-Personal/Documenten/Computer Science/Year 3/Scriptie/GoogleAds.xlsx')\n",
    "# df = shuffle(df)\n",
    "# df = df.dropna()\n",
    "# df = df.reset_index(drop=True)\n",
    "# df.to_excel(r'/Users/mithat/Library/CloudStorage/OneDrive-Personal/Documenten/Computer Science/Year 3/Scriptie/RandomCampaigns.xlsx', index=False)\n",
    "\n",
    "# Random Campaigns\n",
    "df = pd.read_excel(r'/Users/mithat/Library/CloudStorage/OneDrive-Personal/Documenten/Computer Science/Year 3/Scriptie/RandomCampaigns.xlsx')\n",
    "# clicks = random.randrange(0, 40)\n",
    "# impressions = random.randrange(100, 2000)\n",
    "# cost = random.uniform(0, 60)\n",
    "# ctr = clicks/impressions * 100\n",
    "# score = ((impressions/500)**2*(1/3)+(clicks/10)**2*(1/3)+(ctr/2.2)**2*(1/3))*100\n",
    "\n",
    "# for i in df.index:\n",
    "#     clicks = random.randrange(0, 40)\n",
    "#     impressions = random.randrange(100, 2000)\n",
    "#     cost = random.uniform(0, 60)\n",
    "#     ctr = clicks/impressions * 100\n",
    "#     score = ((impressions/500)**2*(1/3)+(clicks/10)**2*(1/3)+(ctr/2.2)**2*(1/3))*100\n",
    "\n",
    "#     df.at[i,'clicks'] = clicks\n",
    "#     df.at[i,'impressions'] = impressions\n",
    "#     df.at[i,'cost'] = cost\n",
    "#     df.at[i,'ctr'] = ctr\n",
    "#     df.at[i,'score'] = score\n",
    "    \n",
    "\n",
    "display(df)\n",
    "# print(clicks)\n",
    "# print(impressions)\n",
    "# print(cost)\n",
    "# print(score)\n",
    "# print(ctr)"
   ]
  },
  {
   "cell_type": "code",
   "execution_count": 41,
   "metadata": {},
   "outputs": [
    {
     "name": "stdout",
     "output_type": "stream",
     "text": [
      "Randomly selected value from column 'Keywords': project software\n",
      "Randomly selected value from column 'Description': The Newest Tech in Artwork Management. Simple & Powerful. 100% Cloud-Based Tool.\n",
      "Randomly selected value from column 'Callout': No Download Necessary\n",
      "Generation 1 - Best Fitness: 3184.201134182798\n",
      "Generation 2 - Best Fitness: 3184.201134182798\n",
      "Generation 3 - Best Fitness: 3184.201134182798\n",
      "Generation 4 - Best Fitness: 3184.201134182798\n"
     ]
    },
    {
     "name": "stderr",
     "output_type": "stream",
     "text": [
      "/var/folders/wc/7yzv3_vd6xjbkbtdqwwcbs480000gn/T/ipykernel_4960/1157597554.py:121: FutureWarning: The frame.append method is deprecated and will be removed from pandas in a future version. Use pandas.concat instead.\n",
      "  results = results.append(new_row, ignore_index=True)\n",
      "/var/folders/wc/7yzv3_vd6xjbkbtdqwwcbs480000gn/T/ipykernel_4960/1157597554.py:121: FutureWarning: The frame.append method is deprecated and will be removed from pandas in a future version. Use pandas.concat instead.\n",
      "  results = results.append(new_row, ignore_index=True)\n",
      "/var/folders/wc/7yzv3_vd6xjbkbtdqwwcbs480000gn/T/ipykernel_4960/1157597554.py:121: FutureWarning: The frame.append method is deprecated and will be removed from pandas in a future version. Use pandas.concat instead.\n",
      "  results = results.append(new_row, ignore_index=True)\n",
      "/var/folders/wc/7yzv3_vd6xjbkbtdqwwcbs480000gn/T/ipykernel_4960/1157597554.py:121: FutureWarning: The frame.append method is deprecated and will be removed from pandas in a future version. Use pandas.concat instead.\n",
      "  results = results.append(new_row, ignore_index=True)\n"
     ]
    },
    {
     "name": "stdout",
     "output_type": "stream",
     "text": [
      "Generation 5 - Best Fitness: 3184.201134182798\n",
      "Generation 6 - Best Fitness: 3184.201134182798\n",
      "Generation 7 - Best Fitness: 3684.201134182798\n",
      "Generation 8 - Best Fitness: 3684.201134182798\n"
     ]
    },
    {
     "name": "stderr",
     "output_type": "stream",
     "text": [
      "/var/folders/wc/7yzv3_vd6xjbkbtdqwwcbs480000gn/T/ipykernel_4960/1157597554.py:121: FutureWarning: The frame.append method is deprecated and will be removed from pandas in a future version. Use pandas.concat instead.\n",
      "  results = results.append(new_row, ignore_index=True)\n",
      "/var/folders/wc/7yzv3_vd6xjbkbtdqwwcbs480000gn/T/ipykernel_4960/1157597554.py:121: FutureWarning: The frame.append method is deprecated and will be removed from pandas in a future version. Use pandas.concat instead.\n",
      "  results = results.append(new_row, ignore_index=True)\n",
      "/var/folders/wc/7yzv3_vd6xjbkbtdqwwcbs480000gn/T/ipykernel_4960/1157597554.py:121: FutureWarning: The frame.append method is deprecated and will be removed from pandas in a future version. Use pandas.concat instead.\n",
      "  results = results.append(new_row, ignore_index=True)\n",
      "/var/folders/wc/7yzv3_vd6xjbkbtdqwwcbs480000gn/T/ipykernel_4960/1157597554.py:121: FutureWarning: The frame.append method is deprecated and will be removed from pandas in a future version. Use pandas.concat instead.\n",
      "  results = results.append(new_row, ignore_index=True)\n"
     ]
    },
    {
     "name": "stdout",
     "output_type": "stream",
     "text": [
      "Generation 9 - Best Fitness: 3684.201134182798\n",
      "Generation 10 - Best Fitness: 3684.201134182798\n",
      "Generation 11 - Best Fitness: 3684.201134182798\n",
      "Generation 12 - Best Fitness: 4184.201134182798\n"
     ]
    },
    {
     "name": "stderr",
     "output_type": "stream",
     "text": [
      "/var/folders/wc/7yzv3_vd6xjbkbtdqwwcbs480000gn/T/ipykernel_4960/1157597554.py:121: FutureWarning: The frame.append method is deprecated and will be removed from pandas in a future version. Use pandas.concat instead.\n",
      "  results = results.append(new_row, ignore_index=True)\n",
      "/var/folders/wc/7yzv3_vd6xjbkbtdqwwcbs480000gn/T/ipykernel_4960/1157597554.py:121: FutureWarning: The frame.append method is deprecated and will be removed from pandas in a future version. Use pandas.concat instead.\n",
      "  results = results.append(new_row, ignore_index=True)\n",
      "/var/folders/wc/7yzv3_vd6xjbkbtdqwwcbs480000gn/T/ipykernel_4960/1157597554.py:121: FutureWarning: The frame.append method is deprecated and will be removed from pandas in a future version. Use pandas.concat instead.\n",
      "  results = results.append(new_row, ignore_index=True)\n",
      "/var/folders/wc/7yzv3_vd6xjbkbtdqwwcbs480000gn/T/ipykernel_4960/1157597554.py:121: FutureWarning: The frame.append method is deprecated and will be removed from pandas in a future version. Use pandas.concat instead.\n",
      "  results = results.append(new_row, ignore_index=True)\n"
     ]
    },
    {
     "name": "stdout",
     "output_type": "stream",
     "text": [
      "Generation 13 - Best Fitness: 4184.201134182798\n",
      "Generation 14 - Best Fitness: 4184.201134182798\n",
      "Generation 15 - Best Fitness: 4184.201134182798\n"
     ]
    },
    {
     "name": "stderr",
     "output_type": "stream",
     "text": [
      "/var/folders/wc/7yzv3_vd6xjbkbtdqwwcbs480000gn/T/ipykernel_4960/1157597554.py:121: FutureWarning: The frame.append method is deprecated and will be removed from pandas in a future version. Use pandas.concat instead.\n",
      "  results = results.append(new_row, ignore_index=True)\n",
      "/var/folders/wc/7yzv3_vd6xjbkbtdqwwcbs480000gn/T/ipykernel_4960/1157597554.py:121: FutureWarning: The frame.append method is deprecated and will be removed from pandas in a future version. Use pandas.concat instead.\n",
      "  results = results.append(new_row, ignore_index=True)\n",
      "/var/folders/wc/7yzv3_vd6xjbkbtdqwwcbs480000gn/T/ipykernel_4960/1157597554.py:121: FutureWarning: The frame.append method is deprecated and will be removed from pandas in a future version. Use pandas.concat instead.\n",
      "  results = results.append(new_row, ignore_index=True)\n"
     ]
    },
    {
     "name": "stdout",
     "output_type": "stream",
     "text": [
      "Generation 16 - Best Fitness: 4184.201134182798\n",
      "Generation 17 - Best Fitness: 4684.201134182798\n",
      "Generation 18 - Best Fitness: 4684.201134182798\n"
     ]
    },
    {
     "name": "stderr",
     "output_type": "stream",
     "text": [
      "/var/folders/wc/7yzv3_vd6xjbkbtdqwwcbs480000gn/T/ipykernel_4960/1157597554.py:121: FutureWarning: The frame.append method is deprecated and will be removed from pandas in a future version. Use pandas.concat instead.\n",
      "  results = results.append(new_row, ignore_index=True)\n",
      "/var/folders/wc/7yzv3_vd6xjbkbtdqwwcbs480000gn/T/ipykernel_4960/1157597554.py:121: FutureWarning: The frame.append method is deprecated and will be removed from pandas in a future version. Use pandas.concat instead.\n",
      "  results = results.append(new_row, ignore_index=True)\n",
      "/var/folders/wc/7yzv3_vd6xjbkbtdqwwcbs480000gn/T/ipykernel_4960/1157597554.py:121: FutureWarning: The frame.append method is deprecated and will be removed from pandas in a future version. Use pandas.concat instead.\n",
      "  results = results.append(new_row, ignore_index=True)\n",
      "/var/folders/wc/7yzv3_vd6xjbkbtdqwwcbs480000gn/T/ipykernel_4960/1157597554.py:121: FutureWarning: The frame.append method is deprecated and will be removed from pandas in a future version. Use pandas.concat instead.\n",
      "  results = results.append(new_row, ignore_index=True)\n"
     ]
    },
    {
     "name": "stdout",
     "output_type": "stream",
     "text": [
      "Generation 19 - Best Fitness: 4684.201134182798\n",
      "Generation 20 - Best Fitness: 4684.201134182798\n",
      "Generation 21 - Best Fitness: 4684.201134182798\n",
      "Generation 22 - Best Fitness: 4684.201134182798\n"
     ]
    },
    {
     "name": "stderr",
     "output_type": "stream",
     "text": [
      "/var/folders/wc/7yzv3_vd6xjbkbtdqwwcbs480000gn/T/ipykernel_4960/1157597554.py:121: FutureWarning: The frame.append method is deprecated and will be removed from pandas in a future version. Use pandas.concat instead.\n",
      "  results = results.append(new_row, ignore_index=True)\n",
      "/var/folders/wc/7yzv3_vd6xjbkbtdqwwcbs480000gn/T/ipykernel_4960/1157597554.py:121: FutureWarning: The frame.append method is deprecated and will be removed from pandas in a future version. Use pandas.concat instead.\n",
      "  results = results.append(new_row, ignore_index=True)\n",
      "/var/folders/wc/7yzv3_vd6xjbkbtdqwwcbs480000gn/T/ipykernel_4960/1157597554.py:121: FutureWarning: The frame.append method is deprecated and will be removed from pandas in a future version. Use pandas.concat instead.\n",
      "  results = results.append(new_row, ignore_index=True)\n",
      "/var/folders/wc/7yzv3_vd6xjbkbtdqwwcbs480000gn/T/ipykernel_4960/1157597554.py:121: FutureWarning: The frame.append method is deprecated and will be removed from pandas in a future version. Use pandas.concat instead.\n",
      "  results = results.append(new_row, ignore_index=True)\n"
     ]
    },
    {
     "name": "stdout",
     "output_type": "stream",
     "text": [
      "Generation 23 - Best Fitness: 4684.201134182798\n",
      "Generation 24 - Best Fitness: 4684.201134182798\n",
      "Generation 25 - Best Fitness: 4684.201134182798\n",
      "Generation 26 - Best Fitness: 4684.201134182798\n"
     ]
    },
    {
     "name": "stderr",
     "output_type": "stream",
     "text": [
      "/var/folders/wc/7yzv3_vd6xjbkbtdqwwcbs480000gn/T/ipykernel_4960/1157597554.py:121: FutureWarning: The frame.append method is deprecated and will be removed from pandas in a future version. Use pandas.concat instead.\n",
      "  results = results.append(new_row, ignore_index=True)\n",
      "/var/folders/wc/7yzv3_vd6xjbkbtdqwwcbs480000gn/T/ipykernel_4960/1157597554.py:121: FutureWarning: The frame.append method is deprecated and will be removed from pandas in a future version. Use pandas.concat instead.\n",
      "  results = results.append(new_row, ignore_index=True)\n",
      "/var/folders/wc/7yzv3_vd6xjbkbtdqwwcbs480000gn/T/ipykernel_4960/1157597554.py:121: FutureWarning: The frame.append method is deprecated and will be removed from pandas in a future version. Use pandas.concat instead.\n",
      "  results = results.append(new_row, ignore_index=True)\n",
      "/var/folders/wc/7yzv3_vd6xjbkbtdqwwcbs480000gn/T/ipykernel_4960/1157597554.py:121: FutureWarning: The frame.append method is deprecated and will be removed from pandas in a future version. Use pandas.concat instead.\n",
      "  results = results.append(new_row, ignore_index=True)\n"
     ]
    },
    {
     "name": "stdout",
     "output_type": "stream",
     "text": [
      "Generation 27 - Best Fitness: 4684.201134182798\n",
      "Generation 28 - Best Fitness: 4684.201134182798\n",
      "Generation 29 - Best Fitness: 4684.201134182798\n",
      "Generation 30 - Best Fitness: 4684.201134182798\n"
     ]
    },
    {
     "name": "stderr",
     "output_type": "stream",
     "text": [
      "/var/folders/wc/7yzv3_vd6xjbkbtdqwwcbs480000gn/T/ipykernel_4960/1157597554.py:121: FutureWarning: The frame.append method is deprecated and will be removed from pandas in a future version. Use pandas.concat instead.\n",
      "  results = results.append(new_row, ignore_index=True)\n",
      "/var/folders/wc/7yzv3_vd6xjbkbtdqwwcbs480000gn/T/ipykernel_4960/1157597554.py:121: FutureWarning: The frame.append method is deprecated and will be removed from pandas in a future version. Use pandas.concat instead.\n",
      "  results = results.append(new_row, ignore_index=True)\n",
      "/var/folders/wc/7yzv3_vd6xjbkbtdqwwcbs480000gn/T/ipykernel_4960/1157597554.py:121: FutureWarning: The frame.append method is deprecated and will be removed from pandas in a future version. Use pandas.concat instead.\n",
      "  results = results.append(new_row, ignore_index=True)\n",
      "/var/folders/wc/7yzv3_vd6xjbkbtdqwwcbs480000gn/T/ipykernel_4960/1157597554.py:121: FutureWarning: The frame.append method is deprecated and will be removed from pandas in a future version. Use pandas.concat instead.\n",
      "  results = results.append(new_row, ignore_index=True)\n"
     ]
    },
    {
     "name": "stdout",
     "output_type": "stream",
     "text": [
      "Generation 31 - Best Fitness: 4684.201134182798\n",
      "Generation 32 - Best Fitness: 4684.201134182798\n",
      "Generation 33 - Best Fitness: 4684.201134182798\n",
      "Generation 34 - Best Fitness: 4684.201134182798\n"
     ]
    },
    {
     "name": "stderr",
     "output_type": "stream",
     "text": [
      "/var/folders/wc/7yzv3_vd6xjbkbtdqwwcbs480000gn/T/ipykernel_4960/1157597554.py:121: FutureWarning: The frame.append method is deprecated and will be removed from pandas in a future version. Use pandas.concat instead.\n",
      "  results = results.append(new_row, ignore_index=True)\n",
      "/var/folders/wc/7yzv3_vd6xjbkbtdqwwcbs480000gn/T/ipykernel_4960/1157597554.py:121: FutureWarning: The frame.append method is deprecated and will be removed from pandas in a future version. Use pandas.concat instead.\n",
      "  results = results.append(new_row, ignore_index=True)\n",
      "/var/folders/wc/7yzv3_vd6xjbkbtdqwwcbs480000gn/T/ipykernel_4960/1157597554.py:121: FutureWarning: The frame.append method is deprecated and will be removed from pandas in a future version. Use pandas.concat instead.\n",
      "  results = results.append(new_row, ignore_index=True)\n",
      "/var/folders/wc/7yzv3_vd6xjbkbtdqwwcbs480000gn/T/ipykernel_4960/1157597554.py:121: FutureWarning: The frame.append method is deprecated and will be removed from pandas in a future version. Use pandas.concat instead.\n",
      "  results = results.append(new_row, ignore_index=True)\n",
      "/var/folders/wc/7yzv3_vd6xjbkbtdqwwcbs480000gn/T/ipykernel_4960/1157597554.py:121: FutureWarning: The frame.append method is deprecated and will be removed from pandas in a future version. Use pandas.concat instead.\n",
      "  results = results.append(new_row, ignore_index=True)\n"
     ]
    },
    {
     "name": "stdout",
     "output_type": "stream",
     "text": [
      "Generation 35 - Best Fitness: 4684.201134182798\n",
      "Generation 36 - Best Fitness: 4684.201134182798\n",
      "Generation 37 - Best Fitness: 4684.201134182798\n",
      "Generation 38 - Best Fitness: 4684.201134182798\n",
      "Generation 39 - Best Fitness: 4684.201134182798\n"
     ]
    },
    {
     "name": "stderr",
     "output_type": "stream",
     "text": [
      "/var/folders/wc/7yzv3_vd6xjbkbtdqwwcbs480000gn/T/ipykernel_4960/1157597554.py:121: FutureWarning: The frame.append method is deprecated and will be removed from pandas in a future version. Use pandas.concat instead.\n",
      "  results = results.append(new_row, ignore_index=True)\n",
      "/var/folders/wc/7yzv3_vd6xjbkbtdqwwcbs480000gn/T/ipykernel_4960/1157597554.py:121: FutureWarning: The frame.append method is deprecated and will be removed from pandas in a future version. Use pandas.concat instead.\n",
      "  results = results.append(new_row, ignore_index=True)\n",
      "/var/folders/wc/7yzv3_vd6xjbkbtdqwwcbs480000gn/T/ipykernel_4960/1157597554.py:121: FutureWarning: The frame.append method is deprecated and will be removed from pandas in a future version. Use pandas.concat instead.\n",
      "  results = results.append(new_row, ignore_index=True)\n",
      "/var/folders/wc/7yzv3_vd6xjbkbtdqwwcbs480000gn/T/ipykernel_4960/1157597554.py:121: FutureWarning: The frame.append method is deprecated and will be removed from pandas in a future version. Use pandas.concat instead.\n",
      "  results = results.append(new_row, ignore_index=True)\n"
     ]
    },
    {
     "name": "stdout",
     "output_type": "stream",
     "text": [
      "Generation 40 - Best Fitness: 4684.201134182798\n",
      "Generation 41 - Best Fitness: 4684.201134182798\n",
      "Generation 42 - Best Fitness: 4684.201134182798\n",
      "Generation 43 - Best Fitness: 4684.201134182798\n",
      "Generation 44 - Best Fitness: 4684.201134182798\n"
     ]
    },
    {
     "name": "stderr",
     "output_type": "stream",
     "text": [
      "/var/folders/wc/7yzv3_vd6xjbkbtdqwwcbs480000gn/T/ipykernel_4960/1157597554.py:121: FutureWarning: The frame.append method is deprecated and will be removed from pandas in a future version. Use pandas.concat instead.\n",
      "  results = results.append(new_row, ignore_index=True)\n",
      "/var/folders/wc/7yzv3_vd6xjbkbtdqwwcbs480000gn/T/ipykernel_4960/1157597554.py:121: FutureWarning: The frame.append method is deprecated and will be removed from pandas in a future version. Use pandas.concat instead.\n",
      "  results = results.append(new_row, ignore_index=True)\n",
      "/var/folders/wc/7yzv3_vd6xjbkbtdqwwcbs480000gn/T/ipykernel_4960/1157597554.py:121: FutureWarning: The frame.append method is deprecated and will be removed from pandas in a future version. Use pandas.concat instead.\n",
      "  results = results.append(new_row, ignore_index=True)\n",
      "/var/folders/wc/7yzv3_vd6xjbkbtdqwwcbs480000gn/T/ipykernel_4960/1157597554.py:121: FutureWarning: The frame.append method is deprecated and will be removed from pandas in a future version. Use pandas.concat instead.\n",
      "  results = results.append(new_row, ignore_index=True)\n",
      "/var/folders/wc/7yzv3_vd6xjbkbtdqwwcbs480000gn/T/ipykernel_4960/1157597554.py:121: FutureWarning: The frame.append method is deprecated and will be removed from pandas in a future version. Use pandas.concat instead.\n",
      "  results = results.append(new_row, ignore_index=True)\n"
     ]
    },
    {
     "name": "stdout",
     "output_type": "stream",
     "text": [
      "Generation 45 - Best Fitness: 4684.201134182798\n",
      "Generation 46 - Best Fitness: 4684.201134182798\n",
      "Generation 47 - Best Fitness: 4684.201134182798\n",
      "Generation 48 - Best Fitness: 4684.201134182798\n"
     ]
    },
    {
     "name": "stderr",
     "output_type": "stream",
     "text": [
      "/var/folders/wc/7yzv3_vd6xjbkbtdqwwcbs480000gn/T/ipykernel_4960/1157597554.py:121: FutureWarning: The frame.append method is deprecated and will be removed from pandas in a future version. Use pandas.concat instead.\n",
      "  results = results.append(new_row, ignore_index=True)\n",
      "/var/folders/wc/7yzv3_vd6xjbkbtdqwwcbs480000gn/T/ipykernel_4960/1157597554.py:121: FutureWarning: The frame.append method is deprecated and will be removed from pandas in a future version. Use pandas.concat instead.\n",
      "  results = results.append(new_row, ignore_index=True)\n",
      "/var/folders/wc/7yzv3_vd6xjbkbtdqwwcbs480000gn/T/ipykernel_4960/1157597554.py:121: FutureWarning: The frame.append method is deprecated and will be removed from pandas in a future version. Use pandas.concat instead.\n",
      "  results = results.append(new_row, ignore_index=True)\n",
      "/var/folders/wc/7yzv3_vd6xjbkbtdqwwcbs480000gn/T/ipykernel_4960/1157597554.py:121: FutureWarning: The frame.append method is deprecated and will be removed from pandas in a future version. Use pandas.concat instead.\n",
      "  results = results.append(new_row, ignore_index=True)\n"
     ]
    },
    {
     "name": "stdout",
     "output_type": "stream",
     "text": [
      "Generation 49 - Best Fitness: 4684.201134182798\n",
      "Generation 50 - Best Fitness: 4684.201134182798\n",
      "Best Individual:\n",
      "{'Keywords': ['project software', 'artwork management solutions'], 'Description': 'The Newest Tech in Artwork Management. Simple & Powerful. 100% Cloud-Based Tool.', 'Headline': 'QA + Design Workflow', 'Location': 'Norway, Sweden, Finland', 'Sitelink': 'Free Workflow Manager\\n\\nD: Plans Built for Teams of All Sizes. Try for Free.', 'Callout': 'No Download Necessary', 'Url': 'https://twonas.com/services/ams/?source=genesis', 'Click': 39, 'Impression': 198}\n"
     ]
    },
    {
     "name": "stderr",
     "output_type": "stream",
     "text": [
      "/var/folders/wc/7yzv3_vd6xjbkbtdqwwcbs480000gn/T/ipykernel_4960/1157597554.py:121: FutureWarning: The frame.append method is deprecated and will be removed from pandas in a future version. Use pandas.concat instead.\n",
      "  results = results.append(new_row, ignore_index=True)\n"
     ]
    },
    {
     "data": {
      "image/png": "[encoded data removed]",
      "text/plain": [
       "<Figure size 640x480 with 1 Axes>"
      ]
     },
     "metadata": {},
     "output_type": "display_data"
    }
   ],
   "source": [
    "#Genetic Algorithm\n",
    "\n",
    "# Define the parameters to optimize\n",
    "genericDf = pd.read_excel(r'/Users/mithat/Library/CloudStorage/OneDrive-Personal/Documenten/Computer Science/Year 3/Scriptie/GoogleAds.xlsx')\n",
    "# convert DataFrame to sorted dictionary\n",
    "parameters = dict(sorted(genericDf.to_dict(orient='list').items()))\n",
    "# remove NaN values from dictionary\n",
    "parameters = {k: [v for v in lst if pd.notnull(v)] for k, lst in parameters.items()}\n",
    "\n",
    "# Example parameter values\n",
    "Keywords = parameters['Keywords']\n",
    "Descriptions = parameters['Description']\n",
    "Headlines = parameters['Headline']\n",
    "Locations = parameters['Location']\n",
    "Sitelinks = parameters['Sitelink']\n",
    "Callouts = parameters['Callout']\n",
    "Urls = parameters['Url']\n",
    "\n",
    "# Constants\n",
    "POPULATION_SIZE = 20\n",
    "GENERATIONS = 50\n",
    "MUTATION_RATE = 0.1\n",
    "\n",
    "# randomly select one or more columns\n",
    "df_sub = df.iloc[:, :7]\n",
    "columns_to_select = random.sample(list(df_sub.columns), random.randint(1, 7))\n",
    "\n",
    "# randomly select an element from each selected column\n",
    "values_to_check = []\n",
    "for col in columns_to_select:\n",
    "    row_index = random.randint(0, len(df_sub) - 1)\n",
    "    value = df_sub.loc[row_index, col]\n",
    "    values_to_check.append(value)\n",
    "    print(f\"Randomly selected value from column '{col}': {value}\")\n",
    "\n",
    "# Function to generate an individual with random parameters\n",
    "def generate_individual():\n",
    "    clicks = random.randrange(0, 40)\n",
    "    impressions = random.randrange(100, 2000)\n",
    "    \n",
    "    individual = {\n",
    "        \"Keywords\": random.sample(Keywords, k=random.randint(1, 5)),\n",
    "        \"Description\": random.choice(Descriptions),\n",
    "        \"Headline\": random.choice(Headlines),\n",
    "        \"Location\": random.choice(Locations),\n",
    "        \"Sitelink\": random.choice(Sitelinks),\n",
    "        \"Callout\": random.choice(Callouts),\n",
    "        \"Url\": random.choice(Urls),\n",
    "        \"Click\": clicks,\n",
    "        \"Impression\": impressions,\n",
    "    }\n",
    "    return individual\n",
    "\n",
    "# Function to generate an initial population\n",
    "def generate_population():\n",
    "    population = []\n",
    "    for _ in range(POPULATION_SIZE):\n",
    "        individual = generate_individual()\n",
    "        population.append(individual)\n",
    "    return population\n",
    "\n",
    "# Function to evaluate the fitness of an individual (example fitness function)\n",
    "def evaluate_fitness(campaign):\n",
    "    ctr = campaign['Click']/campaign['Impression'] * 100\n",
    "    score = ((campaign['Impression']/500)**2*(1/3)+(campaign['Click']/10)**2*(1/3)+(ctr/2.2)**2*(1/3))*100\n",
    "\n",
    "    # if campaign['Callout'] == 'Easy to Use':\n",
    "    #         score += 1000\n",
    "\n",
    "    # add bonus for the keyword 'packaging design software'\n",
    "    for col, value in zip(columns_to_select, values_to_check):\n",
    "        if value in pd.Series(campaign[col]).values:\n",
    "            score += 500\n",
    "\n",
    "    # Return a fitness score\n",
    "    return score\n",
    "\n",
    "# Function to perform mutation on an individual\n",
    "def mutate(individual):\n",
    "    for param in individual:\n",
    "        if random.random() < MUTATION_RATE:\n",
    "            if param == \"Keywords\":\n",
    "                individual[param] = random.sample(Keywords, k=random.randint(1, 5))\n",
    "            elif param == \"Impression\" or param == \"Click\":\n",
    "                continue\n",
    "            else:\n",
    "                individual[param] = random.choice(eval(param + \"s\"))\n",
    "    return individual\n",
    "\n",
    "# Function to perform crossover between two parents\n",
    "def crossover(parent1, parent2):\n",
    "    child = {}\n",
    "    for param in parent1:\n",
    "        if random.random() < 0.5:\n",
    "            child[param] = parent1[param]\n",
    "        else:\n",
    "            child[param] = parent2[param]\n",
    "    return child\n",
    "\n",
    "# Function to select individuals for the next generation using tournament selection\n",
    "def selection(population):\n",
    "    tournament_size = int(0.2 * POPULATION_SIZE)\n",
    "    selected = []\n",
    "    for _ in range(POPULATION_SIZE):\n",
    "        tournament = random.sample(population, k=tournament_size)\n",
    "        best_individual = max(tournament, key=lambda x: evaluate_fitness(x))\n",
    "        selected.append(best_individual)\n",
    "    return selected\n",
    "\n",
    "# Main algorithm loop\n",
    "def plant_propagation_algorithm():\n",
    "    results = pd.DataFrame()\n",
    "    population = generate_population()\n",
    "    \n",
    "    for generation in range(GENERATIONS):\n",
    "        print(f\"Generation {generation + 1} - Best Fitness: {evaluate_fitness(max(population, key=lambda x: evaluate_fitness(x)))}\")\n",
    "        new_row = pd.Series([evaluate_fitness(max(population, key=lambda x: evaluate_fitness(x)))], index=['Score'])\n",
    "        # append the new row to the DataFrame\n",
    "        results = results.append(new_row, ignore_index=True)\n",
    "\n",
    "        new_population = []\n",
    "        \n",
    "        for _ in range(POPULATION_SIZE // 2):\n",
    "            parents = random.sample(population, k=2)\n",
    "            child1 = crossover(parents[0], parents[1])\n",
    "            child2 = crossover(parents[1], parents[0])\n",
    "            child1 = mutate(child1)\n",
    "            child2 = mutate(child2)\n",
    "            new_population.extend([child1, child2])\n",
    "\n",
    "        population = selection(population) + new_population\n",
    "\n",
    "    best_individual = max(population, key=lambda x: evaluate_fitness(x))\n",
    "    print(\"Best Individual:\")\n",
    "    print(best_individual)\n",
    "\n",
    "    results.plot()\n",
    "\n",
    "# Run the plant propagation algorithm\n",
    "plant_propagation_algorithm()"
   ]
  },
  {
   "cell_type": "code",
   "execution_count": null,
   "metadata": {},
   "outputs": [],
   "source": []
  },
  {
   "cell_type": "code",
   "execution_count": null,
   "metadata": {},
   "outputs": [],
   "source": []
  }
 ],
 "metadata": {
  "kernelspec": {
   "display_name": "Python 3",
   "language": "python",
   "name": "python3"
  },
  "language_info": {
   "codemirror_mode": {
    "name": "ipython",
    "version": 3
   },
   "file_extension": ".py",
   "mimetype": "text/x-python",
   "name": "python",
   "nbconvert_exporter": "python",
   "pygments_lexer": "ipython3",
   "version": "3.9.13"
  },
  "orig_nbformat": 4
 },
 "nbformat": 4,
 "nbformat_minor": 2
}
